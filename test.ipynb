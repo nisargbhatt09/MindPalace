{
 "cells": [
  {
   "cell_type": "code",
   "execution_count": 1,
   "metadata": {},
   "outputs": [
    {
     "name": "stderr",
     "output_type": "stream",
     "text": [
      "/opt/anaconda3/envs/llama/lib/python3.12/site-packages/tqdm/auto.py:21: TqdmWarning: IProgress not found. Please update jupyter and ipywidgets. See https://ipywidgets.readthedocs.io/en/stable/user_install.html\n",
      "  from .autonotebook import tqdm as notebook_tqdm\n"
     ]
    }
   ],
   "source": [
    "import os\n",
    "import faiss\n",
    "import numpy as np\n",
    "from PIL import Image\n",
    "from transformers import BlipProcessor, BlipForConditionalGeneration\n",
    "from sentence_transformers import SentenceTransformer"
   ]
  },
  {
   "cell_type": "code",
   "execution_count": 2,
   "metadata": {},
   "outputs": [],
   "source": [
    "def initialize_models():\n",
    "    # Image Captioning Model (BLIP)\n",
    "    caption_processor = BlipProcessor.from_pretrained(\"Salesforce/blip-image-captioning-large\")\n",
    "    caption_model = BlipForConditionalGeneration.from_pretrained(\"Salesforce/blip-image-captioning-large\")\n",
    "\n",
    "    # Text Embedding Model (Sentence Transformers)\n",
    "    embedder = SentenceTransformer('all-MiniLM-L6-v2')\n",
    "\n",
    "    return caption_processor, caption_model, embedder"
   ]
  },
  {
   "cell_type": "code",
   "execution_count": 3,
   "metadata": {},
   "outputs": [],
   "source": [
    "def generate_caption(image_path, processor, model):\n",
    "    try:\n",
    "        image = Image.open(image_path).convert(\"RGB\")\n",
    "        inputs = processor(image, return_tensors=\"pt\")\n",
    "        out = model.generate(**inputs, max_length=50)\n",
    "        caption = processor.decode(out[0], skip_special_tokens=True)\n",
    "        return caption\n",
    "    except Exception as e:\n",
    "        print(f\"Error generating caption: {e}\")\n",
    "        return None"
   ]
  },
  {
   "cell_type": "code",
   "execution_count": 4,
   "metadata": {},
   "outputs": [],
   "source": [
    "def encode_text(text, embedder):\n",
    "    return embedder.encode(text)"
   ]
  },
  {
   "cell_type": "code",
   "execution_count": 5,
   "metadata": {},
   "outputs": [],
   "source": [
    "def initialize_faiss(dimension=384):\n",
    "    # Create a FlatL2 index (exact search)\n",
    "    index = faiss.IndexFlatL2(dimension)  # Matches Sentence Transformer output (384 dimensions)\n",
    "    return index"
   ]
  },
  {
   "cell_type": "code",
   "execution_count": 6,
   "metadata": {},
   "outputs": [],
   "source": [
    "def store_in_faiss(index, image_id, caption, caption_vector, metadata_list):\n",
    "    vector = np.array([caption_vector])  # FAISS expects a 2D array\n",
    "    index.add(vector)  # Add vector to index\n",
    "    metadata_list.append({\"image_id\": image_id, \"caption\": caption})  # Store metadata separately"
   ]
  },
  {
   "cell_type": "code",
   "execution_count": 7,
   "metadata": {},
   "outputs": [],
   "source": [
    "# def query_faiss(index, query_text, embedder, metadata_list, top_k=5):\n",
    "#     query_vector = np.array([embedder.encode(query_text)])  # Encode query\n",
    "#     distances, indices = index.search(query_vector, top_k)  # Search for top-k matches\n",
    "#     results = []\n",
    "#     for i, idx in enumerate(indices[0]):\n",
    "#         metadata = metadata_list[idx]\n",
    "#         results.append({\n",
    "#             \"image_id\": metadata[\"image_id\"],\n",
    "#             \"caption\": metadata[\"caption\"],\n",
    "#             \"distance\": distances[0][i]\n",
    "#         })\n",
    "#     return results\n",
    "\n",
    "def query_faiss(index, query_text, embedder, metadata_list, top_k=5):\n",
    "    query_vector = np.array([embedder.encode(query_text)])  # Encode query\n",
    "    distances, indices = index.search(query_vector, top_k)  # Search for top-k matches\n",
    "\n",
    "    results = []\n",
    "    for i, idx in enumerate(indices[0]):\n",
    "        # Check if the index is valid and within the range of metadata_list\n",
    "        if idx >= 0 and idx < len(metadata_list):\n",
    "            metadata = metadata_list[idx]\n",
    "            results.append({\n",
    "                \"image_id\": metadata[\"image_id\"],\n",
    "                \"caption\": metadata[\"caption\"],\n",
    "                \"distance\": distances[0][i]\n",
    "            })\n",
    "        else:\n",
    "            print(f\"Warning: Invalid index {idx} encountered. Skipping.\")\n",
    "    return results"
   ]
  },
  {
   "cell_type": "code",
   "execution_count": 8,
   "metadata": {},
   "outputs": [
    {
     "name": "stderr",
     "output_type": "stream",
     "text": [
      "/opt/anaconda3/envs/llama/lib/python3.12/site-packages/transformers/tokenization_utils_base.py:1617: FutureWarning: `clean_up_tokenization_spaces` was not set. It will be set to `True` by default. This behavior will be deprecated in transformers v4.45, and will be then set to `False` by default. For more details check this issue: https://github.com/huggingface/transformers/issues/31884\n",
      "  warnings.warn(\n"
     ]
    },
    {
     "name": "stdout",
     "output_type": "stream",
     "text": [
      "Error generating caption: cannot identify image file '/Users/Nisarg/Downloads/MindPalace/images/dog.jpg'\n",
      "Warning: Invalid index -1 encountered. Skipping.\n",
      "Warning: Invalid index -1 encountered. Skipping.\n",
      "Warning: Invalid index -1 encountered. Skipping.\n",
      "Warning: Invalid index -1 encountered. Skipping.\n",
      "Warning: Invalid index -1 encountered. Skipping.\n",
      "\n",
      "Query Results:\n"
     ]
    }
   ],
   "source": [
    "def main():\n",
    "    # Configuration\n",
    "    IMAGE_DIR = \"./images\"  # Directory containing images\n",
    "    QUERY = \"Show me images of dog\"\n",
    "    DIMENSION = 384  # Matches Sentence Transformer output\n",
    "\n",
    "    # Initialize models\n",
    "    caption_processor, caption_model, embedder = initialize_models()\n",
    "\n",
    "    # Initialize FAISS index and metadata storage\n",
    "    index = initialize_faiss(DIMENSION)\n",
    "    metadata_list = []  # To store captions and IDs\n",
    "\n",
    "    # Process Images and Store in FAISS\n",
    "    for image_file in os.listdir(IMAGE_DIR):\n",
    "        image_path = os.path.join(IMAGE_DIR, image_file)\n",
    "        image_id = os.path.splitext(image_file)[0]\n",
    "\n",
    "        # Generate caption\n",
    "        caption = generate_caption(image_path, caption_processor, caption_model)\n",
    "        if caption:\n",
    "            print(f\"Caption for {image_file}: {caption}\")\n",
    "\n",
    "            # Encode caption into vector\n",
    "            caption_vector = encode_text(caption, embedder)\n",
    "\n",
    "            # Store in FAISS\n",
    "            store_in_faiss(index, image_id, caption, caption_vector, metadata_list)\n",
    "            print(f\"Stored {image_file} in FAISS.\")\n",
    "\n",
    "    # Query FAISS\n",
    "    results = query_faiss(index, QUERY, embedder, metadata_list)\n",
    "    print(\"\\nQuery Results:\")\n",
    "    for result in results:\n",
    "        print(f\"Image ID: {result['image_id']}, Caption: {result['caption']}, Distance: {result['distance']}\")\n",
    "\n",
    "if __name__ == \"__main__\":\n",
    "    main()"
   ]
  },
  {
   "cell_type": "code",
   "execution_count": null,
   "metadata": {},
   "outputs": [],
   "source": []
  }
 ],
 "metadata": {
  "kernelspec": {
   "display_name": "llama",
   "language": "python",
   "name": "python3"
  },
  "language_info": {
   "codemirror_mode": {
    "name": "ipython",
    "version": 3
   },
   "file_extension": ".py",
   "mimetype": "text/x-python",
   "name": "python",
   "nbconvert_exporter": "python",
   "pygments_lexer": "ipython3",
   "version": "3.12.6"
  }
 },
 "nbformat": 4,
 "nbformat_minor": 2
}
